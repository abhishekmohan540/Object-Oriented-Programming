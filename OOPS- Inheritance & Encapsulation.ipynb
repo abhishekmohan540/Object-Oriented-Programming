{
 "cells": [
  {
   "cell_type": "markdown",
   "id": "8510eaff",
   "metadata": {},
   "source": [
    "### Inheritance"
   ]
  },
  {
   "cell_type": "code",
   "execution_count": 1,
   "id": "ba96d81f",
   "metadata": {},
   "outputs": [],
   "source": [
    "class xyz:\n",
    "    def __init__(self,a,b,c):\n",
    "        self.a = a\n",
    "        self.b = b\n",
    "        self.c = c\n",
    "        \n",
    "    def test(self):\n",
    "        print(\"this is my first test method of xyz class\")\n",
    "        \n",
    "    def test1(self):\n",
    "        print(\"this is a test1 method of xyz class\")\n",
    "        \n",
    "    def test2(self):\n",
    "        print(\"this is a test2 method of xyz class\")"
   ]
  },
  {
   "cell_type": "code",
   "execution_count": 2,
   "id": "357128c2",
   "metadata": {},
   "outputs": [],
   "source": [
    "p = xyz(1,2,3)"
   ]
  },
  {
   "cell_type": "code",
   "execution_count": 16,
   "id": "6c702d72",
   "metadata": {},
   "outputs": [
    {
     "name": "stdout",
     "output_type": "stream",
     "text": [
      "this is my first test method of xyz class\n"
     ]
    }
   ],
   "source": [
    "p.test()"
   ]
  },
  {
   "cell_type": "code",
   "execution_count": 18,
   "id": "3c7d16b7",
   "metadata": {},
   "outputs": [
    {
     "data": {
      "text/plain": [
       "1"
      ]
     },
     "execution_count": 18,
     "metadata": {},
     "output_type": "execute_result"
    }
   ],
   "source": [
    "p.a"
   ]
  },
  {
   "cell_type": "code",
   "execution_count": 19,
   "id": "195eb59f",
   "metadata": {},
   "outputs": [
    {
     "data": {
      "text/plain": [
       "3"
      ]
     },
     "execution_count": 19,
     "metadata": {},
     "output_type": "execute_result"
    }
   ],
   "source": [
    "p.c"
   ]
  },
  {
   "cell_type": "code",
   "execution_count": 20,
   "id": "0d3aa49a",
   "metadata": {},
   "outputs": [
    {
     "name": "stdout",
     "output_type": "stream",
     "text": [
      "this is a test2 method of xyz class\n"
     ]
    }
   ],
   "source": [
    "p.test2()"
   ]
  },
  {
   "cell_type": "code",
   "execution_count": 4,
   "id": "a6c85780",
   "metadata": {},
   "outputs": [],
   "source": [
    "class xyz1(xyz):                 #Here class xyz1 will inherit the properties of class xyz\n",
    "    pass"
   ]
  },
  {
   "cell_type": "code",
   "execution_count": 5,
   "id": "a8c384f7",
   "metadata": {},
   "outputs": [
    {
     "ename": "TypeError",
     "evalue": "__init__() missing 3 required positional arguments: 'a', 'b', and 'c'",
     "output_type": "error",
     "traceback": [
      "\u001b[1;31m---------------------------------------------------------------------------\u001b[0m",
      "\u001b[1;31mTypeError\u001b[0m                                 Traceback (most recent call last)",
      "Input \u001b[1;32mIn [5]\u001b[0m, in \u001b[0;36m<cell line: 1>\u001b[1;34m()\u001b[0m\n\u001b[1;32m----> 1\u001b[0m q \u001b[38;5;241m=\u001b[39m \u001b[43mxyz1\u001b[49m\u001b[43m(\u001b[49m\u001b[43m)\u001b[49m\n",
      "\u001b[1;31mTypeError\u001b[0m: __init__() missing 3 required positional arguments: 'a', 'b', and 'c'"
     ]
    }
   ],
   "source": [
    "q = xyz1()"
   ]
  },
  {
   "cell_type": "code",
   "execution_count": 6,
   "id": "2b0c9ea5",
   "metadata": {},
   "outputs": [],
   "source": [
    "# The error is beacuse class xyz1 inherited the properies of class xyz and hence as per class xyz, 3 arguments are reqd."
   ]
  },
  {
   "cell_type": "code",
   "execution_count": 7,
   "id": "8aafae5e",
   "metadata": {},
   "outputs": [],
   "source": [
    "q = xyz1(5,6,7)"
   ]
  },
  {
   "cell_type": "code",
   "execution_count": 8,
   "id": "0202152e",
   "metadata": {},
   "outputs": [
    {
     "name": "stdout",
     "output_type": "stream",
     "text": [
      "this is my first test method of xyz class\n"
     ]
    }
   ],
   "source": [
    "q.test()"
   ]
  },
  {
   "cell_type": "code",
   "execution_count": 9,
   "id": "641d8a7b",
   "metadata": {},
   "outputs": [
    {
     "name": "stdout",
     "output_type": "stream",
     "text": [
      "this is a test1 method of xyz class\n"
     ]
    }
   ],
   "source": [
    "q.test1()"
   ]
  },
  {
   "cell_type": "code",
   "execution_count": 12,
   "id": "6a46f0e0",
   "metadata": {},
   "outputs": [
    {
     "name": "stdout",
     "output_type": "stream",
     "text": [
      "this is a test2 method of xyz class\n"
     ]
    }
   ],
   "source": [
    "q.test2()"
   ]
  },
  {
   "cell_type": "code",
   "execution_count": 14,
   "id": "211710de",
   "metadata": {},
   "outputs": [
    {
     "data": {
      "text/plain": [
       "5"
      ]
     },
     "execution_count": 14,
     "metadata": {},
     "output_type": "execute_result"
    }
   ],
   "source": [
    "q.a"
   ]
  },
  {
   "cell_type": "code",
   "execution_count": 15,
   "id": "f14d3897",
   "metadata": {},
   "outputs": [
    {
     "data": {
      "text/plain": [
       "6"
      ]
     },
     "execution_count": 15,
     "metadata": {},
     "output_type": "execute_result"
    }
   ],
   "source": [
    "q.b"
   ]
  },
  {
   "cell_type": "code",
   "execution_count": 22,
   "id": "ca540551",
   "metadata": {},
   "outputs": [],
   "source": [
    "# We are able to acces class xyz(parent class) and its functions in class xyz1(child class) by using inheritance."
   ]
  },
  {
   "cell_type": "code",
   "execution_count": 23,
   "id": "49a37c62",
   "metadata": {},
   "outputs": [],
   "source": [
    "class xyz1(xyz):\n",
    "    def test(self):\n",
    "        print(\"this is my test function of child class\")"
   ]
  },
  {
   "cell_type": "code",
   "execution_count": 24,
   "id": "cf07c5dd",
   "metadata": {},
   "outputs": [],
   "source": [
    "g = xyz1(1,5,7)"
   ]
  },
  {
   "cell_type": "code",
   "execution_count": 25,
   "id": "a3b7b608",
   "metadata": {},
   "outputs": [
    {
     "name": "stdout",
     "output_type": "stream",
     "text": [
      "this is my test function of child class\n"
     ]
    }
   ],
   "source": [
    "g.test()"
   ]
  },
  {
   "cell_type": "code",
   "execution_count": 26,
   "id": "e8dba817",
   "metadata": {},
   "outputs": [
    {
     "name": "stdout",
     "output_type": "stream",
     "text": [
      "this is a test1 method of xyz class\n"
     ]
    }
   ],
   "source": [
    "g.test1()"
   ]
  },
  {
   "cell_type": "code",
   "execution_count": 27,
   "id": "668cd7b0",
   "metadata": {},
   "outputs": [],
   "source": [
    "#Here since i have cretaed test() again in child class hence it will overwrite the test() while  other functions of parent class remain same."
   ]
  },
  {
   "cell_type": "code",
   "execution_count": 52,
   "id": "ace15cfc",
   "metadata": {},
   "outputs": [],
   "source": [
    "class xyz:\n",
    "    def __init__(self,a,b,c):\n",
    "        self.a = a\n",
    "        self.b = b\n",
    "        self.c = c\n",
    "        \n",
    "    def test(self):\n",
    "        print(\"this is test method of xyz class\")\n",
    "        \n",
    "\n",
    "class xyz1:\n",
    "    def __init__(self,p,q,v):\n",
    "        self.p = p\n",
    "        self.q = q\n",
    "        self.v = v\n",
    "        \n",
    "    def test1(self):\n",
    "        print(\"this is test1 method of xyz1 class\")\n",
    "               \n",
    "        "
   ]
  },
  {
   "cell_type": "code",
   "execution_count": 30,
   "id": "7bc1156f",
   "metadata": {},
   "outputs": [],
   "source": [
    "class child(xyz,xyz1):\n",
    "    pass"
   ]
  },
  {
   "cell_type": "code",
   "execution_count": 31,
   "id": "44e45380",
   "metadata": {},
   "outputs": [
    {
     "ename": "TypeError",
     "evalue": "__init__() missing 3 required positional arguments: 'a', 'b', and 'c'",
     "output_type": "error",
     "traceback": [
      "\u001b[1;31m---------------------------------------------------------------------------\u001b[0m",
      "\u001b[1;31mTypeError\u001b[0m                                 Traceback (most recent call last)",
      "Input \u001b[1;32mIn [31]\u001b[0m, in \u001b[0;36m<cell line: 1>\u001b[1;34m()\u001b[0m\n\u001b[1;32m----> 1\u001b[0m n \u001b[38;5;241m=\u001b[39m \u001b[43mchild\u001b[49m\u001b[43m(\u001b[49m\u001b[43m)\u001b[49m\n",
      "\u001b[1;31mTypeError\u001b[0m: __init__() missing 3 required positional arguments: 'a', 'b', and 'c'"
     ]
    }
   ],
   "source": [
    "n = child()"
   ]
  },
  {
   "cell_type": "code",
   "execution_count": 32,
   "id": "99c5d422",
   "metadata": {},
   "outputs": [],
   "source": [
    "#It is asking for a,b,c (only3 argumemts) ie variables from very firsrt class. "
   ]
  },
  {
   "cell_type": "code",
   "execution_count": 33,
   "id": "395c889f",
   "metadata": {},
   "outputs": [],
   "source": [
    "n = child(1,2,3)"
   ]
  },
  {
   "cell_type": "code",
   "execution_count": 34,
   "id": "7ba590f0",
   "metadata": {},
   "outputs": [
    {
     "data": {
      "text/plain": [
       "1"
      ]
     },
     "execution_count": 34,
     "metadata": {},
     "output_type": "execute_result"
    }
   ],
   "source": [
    "n.a"
   ]
  },
  {
   "cell_type": "code",
   "execution_count": 35,
   "id": "bc436500",
   "metadata": {},
   "outputs": [
    {
     "data": {
      "text/plain": [
       "2"
      ]
     },
     "execution_count": 35,
     "metadata": {},
     "output_type": "execute_result"
    }
   ],
   "source": [
    "n.b"
   ]
  },
  {
   "cell_type": "code",
   "execution_count": 36,
   "id": "e2a24d7f",
   "metadata": {},
   "outputs": [
    {
     "ename": "AttributeError",
     "evalue": "'child' object has no attribute 'p'",
     "output_type": "error",
     "traceback": [
      "\u001b[1;31m---------------------------------------------------------------------------\u001b[0m",
      "\u001b[1;31mAttributeError\u001b[0m                            Traceback (most recent call last)",
      "Input \u001b[1;32mIn [36]\u001b[0m, in \u001b[0;36m<cell line: 1>\u001b[1;34m()\u001b[0m\n\u001b[1;32m----> 1\u001b[0m \u001b[43mn\u001b[49m\u001b[38;5;241;43m.\u001b[39;49m\u001b[43mp\u001b[49m\n",
      "\u001b[1;31mAttributeError\u001b[0m: 'child' object has no attribute 'p'"
     ]
    }
   ],
   "source": [
    "n.p"
   ]
  },
  {
   "cell_type": "code",
   "execution_count": 37,
   "id": "54bdcc5e",
   "metadata": {},
   "outputs": [
    {
     "ename": "AttributeError",
     "evalue": "'child' object has no attribute 'q'",
     "output_type": "error",
     "traceback": [
      "\u001b[1;31m---------------------------------------------------------------------------\u001b[0m",
      "\u001b[1;31mAttributeError\u001b[0m                            Traceback (most recent call last)",
      "Input \u001b[1;32mIn [37]\u001b[0m, in \u001b[0;36m<cell line: 1>\u001b[1;34m()\u001b[0m\n\u001b[1;32m----> 1\u001b[0m \u001b[43mn\u001b[49m\u001b[38;5;241;43m.\u001b[39;49m\u001b[43mq\u001b[49m\n",
      "\u001b[1;31mAttributeError\u001b[0m: 'child' object has no attribute 'q'"
     ]
    }
   ],
   "source": [
    "n.q"
   ]
  },
  {
   "cell_type": "code",
   "execution_count": 38,
   "id": "19f1ae41",
   "metadata": {},
   "outputs": [],
   "source": [
    "# varibales from only fisrt class and functions from both class are availble to child class"
   ]
  },
  {
   "cell_type": "code",
   "execution_count": 39,
   "id": "2dfbe9da",
   "metadata": {},
   "outputs": [],
   "source": [
    "class child(xyz1,xyz):\n",
    "    pass"
   ]
  },
  {
   "cell_type": "code",
   "execution_count": 40,
   "id": "2bab543e",
   "metadata": {},
   "outputs": [
    {
     "ename": "TypeError",
     "evalue": "__init__() missing 3 required positional arguments: 'p', 'q', and 'v'",
     "output_type": "error",
     "traceback": [
      "\u001b[1;31m---------------------------------------------------------------------------\u001b[0m",
      "\u001b[1;31mTypeError\u001b[0m                                 Traceback (most recent call last)",
      "Input \u001b[1;32mIn [40]\u001b[0m, in \u001b[0;36m<cell line: 1>\u001b[1;34m()\u001b[0m\n\u001b[1;32m----> 1\u001b[0m m \u001b[38;5;241m=\u001b[39m \u001b[43mchild\u001b[49m\u001b[43m(\u001b[49m\u001b[43m)\u001b[49m\n",
      "\u001b[1;31mTypeError\u001b[0m: __init__() missing 3 required positional arguments: 'p', 'q', and 'v'"
     ]
    }
   ],
   "source": [
    "m = child()"
   ]
  },
  {
   "cell_type": "code",
   "execution_count": 41,
   "id": "2e97da85",
   "metadata": {},
   "outputs": [],
   "source": [
    "#Now changing the position of both class in argumemts, \n",
    "# It is asking for p,q,v (only3 argumemts) variables from very firsrt class. "
   ]
  },
  {
   "cell_type": "code",
   "execution_count": 42,
   "id": "c7f11175",
   "metadata": {},
   "outputs": [],
   "source": [
    "m = child(5,6,7)"
   ]
  },
  {
   "cell_type": "code",
   "execution_count": 43,
   "id": "f08b50d7",
   "metadata": {},
   "outputs": [
    {
     "data": {
      "text/plain": [
       "5"
      ]
     },
     "execution_count": 43,
     "metadata": {},
     "output_type": "execute_result"
    }
   ],
   "source": [
    "m.p"
   ]
  },
  {
   "cell_type": "code",
   "execution_count": 44,
   "id": "907602df",
   "metadata": {},
   "outputs": [
    {
     "data": {
      "text/plain": [
       "6"
      ]
     },
     "execution_count": 44,
     "metadata": {},
     "output_type": "execute_result"
    }
   ],
   "source": [
    "m.q"
   ]
  },
  {
   "cell_type": "code",
   "execution_count": 45,
   "id": "7458d687",
   "metadata": {},
   "outputs": [
    {
     "ename": "AttributeError",
     "evalue": "'child' object has no attribute 'a'",
     "output_type": "error",
     "traceback": [
      "\u001b[1;31m---------------------------------------------------------------------------\u001b[0m",
      "\u001b[1;31mAttributeError\u001b[0m                            Traceback (most recent call last)",
      "Input \u001b[1;32mIn [45]\u001b[0m, in \u001b[0;36m<cell line: 1>\u001b[1;34m()\u001b[0m\n\u001b[1;32m----> 1\u001b[0m \u001b[43mm\u001b[49m\u001b[38;5;241;43m.\u001b[39;49m\u001b[43ma\u001b[49m\n",
      "\u001b[1;31mAttributeError\u001b[0m: 'child' object has no attribute 'a'"
     ]
    }
   ],
   "source": [
    "m.a"
   ]
  },
  {
   "cell_type": "code",
   "execution_count": 46,
   "id": "1d0ea160",
   "metadata": {},
   "outputs": [
    {
     "ename": "AttributeError",
     "evalue": "'child' object has no attribute 'b'",
     "output_type": "error",
     "traceback": [
      "\u001b[1;31m---------------------------------------------------------------------------\u001b[0m",
      "\u001b[1;31mAttributeError\u001b[0m                            Traceback (most recent call last)",
      "Input \u001b[1;32mIn [46]\u001b[0m, in \u001b[0;36m<cell line: 1>\u001b[1;34m()\u001b[0m\n\u001b[1;32m----> 1\u001b[0m \u001b[43mm\u001b[49m\u001b[38;5;241;43m.\u001b[39;49m\u001b[43mb\u001b[49m\n",
      "\u001b[1;31mAttributeError\u001b[0m: 'child' object has no attribute 'b'"
     ]
    }
   ],
   "source": [
    "m.b"
   ]
  },
  {
   "cell_type": "code",
   "execution_count": 71,
   "id": "fff6339a",
   "metadata": {},
   "outputs": [],
   "source": [
    "#Conclusion:-\n",
    "# Variables from only first class passed as arguments will be available to child class. \n",
    "# functions from both class will be available irrespective of their order."
   ]
  },
  {
   "cell_type": "code",
   "execution_count": 72,
   "id": "fc665245",
   "metadata": {},
   "outputs": [],
   "source": [
    "# how to acces varibales from both the parent class"
   ]
  },
  {
   "cell_type": "code",
   "execution_count": 62,
   "id": "9e9776f3",
   "metadata": {},
   "outputs": [],
   "source": [
    "class child(xyz1,xyz):\n",
    "    def __init__(self, *args, **kwargs):\n",
    "        xyz.__init__(self,*args)\n",
    "        xyz1.__init__(self, **kwargs)"
   ]
  },
  {
   "cell_type": "code",
   "execution_count": 64,
   "id": "d7824779",
   "metadata": {},
   "outputs": [],
   "source": [
    "d = child(1,2,3, p= 4, q =5, v =6)"
   ]
  },
  {
   "cell_type": "code",
   "execution_count": 65,
   "id": "1cf638be",
   "metadata": {},
   "outputs": [
    {
     "data": {
      "text/plain": [
       "1"
      ]
     },
     "execution_count": 65,
     "metadata": {},
     "output_type": "execute_result"
    }
   ],
   "source": [
    "d.a"
   ]
  },
  {
   "cell_type": "code",
   "execution_count": 66,
   "id": "406033ac",
   "metadata": {},
   "outputs": [
    {
     "data": {
      "text/plain": [
       "2"
      ]
     },
     "execution_count": 66,
     "metadata": {},
     "output_type": "execute_result"
    }
   ],
   "source": [
    "d.b"
   ]
  },
  {
   "cell_type": "code",
   "execution_count": 67,
   "id": "e2b8258b",
   "metadata": {},
   "outputs": [
    {
     "data": {
      "text/plain": [
       "4"
      ]
     },
     "execution_count": 67,
     "metadata": {},
     "output_type": "execute_result"
    }
   ],
   "source": [
    "d.p"
   ]
  },
  {
   "cell_type": "code",
   "execution_count": 68,
   "id": "c49af70c",
   "metadata": {},
   "outputs": [
    {
     "data": {
      "text/plain": [
       "5"
      ]
     },
     "execution_count": 68,
     "metadata": {},
     "output_type": "execute_result"
    }
   ],
   "source": [
    "d.q"
   ]
  },
  {
   "cell_type": "code",
   "execution_count": 69,
   "id": "8338a4c1",
   "metadata": {},
   "outputs": [
    {
     "name": "stdout",
     "output_type": "stream",
     "text": [
      "this is test method of xyz class\n"
     ]
    }
   ],
   "source": [
    "d.test()"
   ]
  },
  {
   "cell_type": "code",
   "execution_count": 70,
   "id": "fc09fee8",
   "metadata": {},
   "outputs": [
    {
     "name": "stdout",
     "output_type": "stream",
     "text": [
      "this is test1 method of xyz1 class\n"
     ]
    }
   ],
   "source": [
    "d.test1()"
   ]
  },
  {
   "cell_type": "markdown",
   "id": "d9f09af3",
   "metadata": {},
   "source": [
    "### Multilevel Inheritance"
   ]
  },
  {
   "cell_type": "code",
   "execution_count": 73,
   "id": "ad002140",
   "metadata": {},
   "outputs": [],
   "source": [
    "class xyz:\n",
    "    def __init__(self,a,b,c):\n",
    "        self.a = a\n",
    "        self.b = b\n",
    "        self.c = c\n",
    "        \n",
    "    def test(self):\n",
    "        print(\"this is test method of xyz class\")\n",
    "        \n",
    "\n",
    "class xyz1(xyz):\n",
    "    \n",
    "    def test1(self):\n",
    "        print(\"this is test1 method of xyz1 class\")\n",
    "        \n",
    "class xyz2(xyz1):\n",
    "    \n",
    "    def test2(self):    \n",
    "        print(\"this is test2 method of xyz2 class\")\n",
    "        "
   ]
  },
  {
   "cell_type": "code",
   "execution_count": 74,
   "id": "dc2a4f4a",
   "metadata": {},
   "outputs": [
    {
     "ename": "TypeError",
     "evalue": "__init__() missing 3 required positional arguments: 'a', 'b', and 'c'",
     "output_type": "error",
     "traceback": [
      "\u001b[1;31m---------------------------------------------------------------------------\u001b[0m",
      "\u001b[1;31mTypeError\u001b[0m                                 Traceback (most recent call last)",
      "Input \u001b[1;32mIn [74]\u001b[0m, in \u001b[0;36m<cell line: 1>\u001b[1;34m()\u001b[0m\n\u001b[1;32m----> 1\u001b[0m v \u001b[38;5;241m=\u001b[39m  \u001b[43mxyz2\u001b[49m\u001b[43m(\u001b[49m\u001b[43m)\u001b[49m\n",
      "\u001b[1;31mTypeError\u001b[0m: __init__() missing 3 required positional arguments: 'a', 'b', and 'c'"
     ]
    }
   ],
   "source": [
    "v =  xyz2()"
   ]
  },
  {
   "cell_type": "code",
   "execution_count": 75,
   "id": "e822a090",
   "metadata": {},
   "outputs": [],
   "source": [
    "v = xyz2(1,2,3)"
   ]
  },
  {
   "cell_type": "code",
   "execution_count": 76,
   "id": "aed44dd7",
   "metadata": {},
   "outputs": [
    {
     "data": {
      "text/plain": [
       "1"
      ]
     },
     "execution_count": 76,
     "metadata": {},
     "output_type": "execute_result"
    }
   ],
   "source": [
    "v.a"
   ]
  },
  {
   "cell_type": "code",
   "execution_count": 77,
   "id": "965d1507",
   "metadata": {},
   "outputs": [
    {
     "name": "stdout",
     "output_type": "stream",
     "text": [
      "this is test method of xyz class\n"
     ]
    }
   ],
   "source": [
    "v.test()"
   ]
  },
  {
   "cell_type": "code",
   "execution_count": 78,
   "id": "a1c27e66",
   "metadata": {},
   "outputs": [
    {
     "name": "stdout",
     "output_type": "stream",
     "text": [
      "this is test1 method of xyz1 class\n"
     ]
    }
   ],
   "source": [
    "v.test1()"
   ]
  },
  {
   "cell_type": "code",
   "execution_count": 79,
   "id": "773087df",
   "metadata": {},
   "outputs": [
    {
     "name": "stdout",
     "output_type": "stream",
     "text": [
      "this is test2 method of xyz2 class\n"
     ]
    }
   ],
   "source": [
    "v.test2()"
   ]
  },
  {
   "cell_type": "markdown",
   "id": "26f98528",
   "metadata": {},
   "source": [
    "### Q1. Create a file class for reading and wrirting data from respecvtive file with a method name read and write.\n",
    "### Q2. try to inherit read and write method from parente class to child class to perform read and write operation."
   ]
  },
  {
   "cell_type": "code",
   "execution_count": 104,
   "id": "eec83c36",
   "metadata": {},
   "outputs": [
    {
     "data": {
      "text/plain": [
       "<_io.TextIOWrapper name='read_and_write.py' mode='w' encoding='cp1252'>"
      ]
     },
     "execution_count": 104,
     "metadata": {},
     "output_type": "execute_result"
    }
   ],
   "source": [
    "open(\"read_and_write.py\", \"w\") # If want to  create a module for this then write code in this file."
   ]
  },
  {
   "cell_type": "code",
   "execution_count": 106,
   "id": "ad808c3d",
   "metadata": {},
   "outputs": [
    {
     "name": "stdout",
     "output_type": "stream",
     "text": [
      " Volume in drive C has no label.\n",
      " Volume Serial Number is 0ADF-48C3\n",
      "\n",
      " Directory of C:\\Users\\DELL\n",
      "\n",
      "21-12-2022  17:43    <DIR>          .\n",
      "21-12-2022  17:43    <DIR>          ..\n",
      "24-09-2022  19:45               140 .bash_history\n",
      "03-09-2022  14:21    <DIR>          .cache\n",
      "24-09-2022  19:44                68 .gitconfig\n",
      "21-12-2022  15:15    <DIR>          .ipynb_checkpoints\n",
      "24-09-2022  19:24    <DIR>          .ipython\n",
      "19-11-2022  17:19    <DIR>          .jupyter\n",
      "19-09-2022  12:28    <DIR>          .vscode\n",
      "19-12-2022  17:43    <DIR>          __pycache__\n",
      "03-09-2022  13:41    <DIR>          3D Objects\n",
      "19-09-2022  11:22    <DIR>          anaconda3\n",
      "26-09-2022  13:32            19,859 Assignment_001.ipynb\n",
      "03-09-2022  13:41    <DIR>          Contacts\n",
      "03-10-2022  15:00            38,631 Copy_of_FSDS_bootcamp_assignment_002_Oct_01.ipynb\n",
      "01-10-2022  14:41            59,383 demo_002.ipynb\n",
      "01-10-2022  14:41            57,301 demo_003.ipynb\n",
      "09-10-2022  11:27           117,701 demo_005.ipynb\n",
      "19-11-2022  09:58    <DIR>          Desktop\n",
      "14-11-2022  12:40            22,228 Dictionary.ipynb\n",
      "19-09-2022  11:22    <DIR>          Documents\n",
      "21-12-2022  11:30    <DIR>          Downloads\n",
      "27-11-2022  17:53            38,151 Exception_Handling.ipynb\n",
      "03-09-2022  13:41    <DIR>          Favorites\n",
      "01-11-2022  14:09            22,859 FSDS_2.0_Assignment_29.10.2022_solutions.ipynb\n",
      "09-10-2022  19:56            20,416 FSDS_bootcamp_assignment_003_Oct_08.ipynb\n",
      "21-10-2022  21:07            15,610 FSDS_bootcamp_assignment_005_Oct_16_solutions.ipynb\n",
      "02-11-2022  20:50            14,305 function 30th oct practice FSDS_2.0.ipynb\n",
      "14-11-2022  13:12            24,150 Function_12_Nov'22.ipynb\n",
      "01-11-2022  12:56            12,801 Hello Everyone.docx\n",
      "21-11-2022  13:07            98,913 Iterator_Generator,_File_System.ipynb\n",
      "03-09-2022  13:41    <DIR>          Links\n",
      "20-12-2022  17:23             8,917 Logger.ipynb\n",
      "07-11-2022  18:03    <DIR>          Microsoft\n",
      "17-12-2022  18:07            19,075 Module and Packages.ipynb\n",
      "03-09-2022  13:41    <DIR>          Music\n",
      "17-12-2022  17:18               255 my_module.py\n",
      "19-12-2022  17:43               637 mydict.py\n",
      "03-09-2022  13:50    <DIR>          OneDrive\n",
      "19-12-2022  18:28            28,532 OOPS - Class & Objects Part-1.ipynb\n",
      "03-09-2022  13:43    <DIR>          Pictures\n",
      "19-12-2022  14:45            78,277 questions.ipynb\n",
      "21-12-2022  17:45                 0 read_and_write.py\n",
      "03-09-2022  13:41    <DIR>          Saved Games\n",
      "03-09-2022  13:43    <DIR>          Searches\n",
      "20-12-2022  16:17               522 test.log\n",
      "17-12-2022  16:36               141 test1.py\n",
      "21-12-2022  17:41               122 test1.txt\n",
      "20-12-2022  17:11             1,279 test2.log\n",
      "19-11-2022  12:21                51 test2.txt\n",
      "20-12-2022  17:22             1,318 test3.log\n",
      "22-10-2022  00:14            35,653 Untitled.ipynb\n",
      "05-11-2022  11:41            48,228 Untitled1.ipynb\n",
      "26-11-2022  14:56               589 Untitled2.ipynb\n",
      "21-12-2022  17:43            24,454 Untitled3.ipynb\n",
      "03-09-2022  14:00    <DIR>          Videos\n",
      "              33 File(s)        810,566 bytes\n",
      "              23 Dir(s)  87,431,548,928 bytes free\n"
     ]
    }
   ],
   "source": [
    "ls"
   ]
  },
  {
   "cell_type": "code",
   "execution_count": 96,
   "id": "414c7dc2",
   "metadata": {},
   "outputs": [],
   "source": [
    "class read_write:\n",
    "    def __init__(self, filename):\n",
    "        self.filename = filename\n",
    "    def read(self):\n",
    "        try:\n",
    "            f = open(self.filename, \"r+\")\n",
    "            print(f.read())\n",
    "        except Exception as e:\n",
    "            print(e)\n",
    "        f.close()    \n",
    "        \n",
    "    def write(self, writing):\n",
    "        try:\n",
    "            f = open(self.filename, \"a\")\n",
    "        except Exception as e:\n",
    "            print(e)\n",
    "        f.write(writing)    \n",
    "        f.close()#\n",
    "        \n",
    "class child(read_write):\n",
    "    pass\n",
    "        \n",
    "        \n",
    "        "
   ]
  },
  {
   "cell_type": "code",
   "execution_count": 98,
   "id": "fe721bc8",
   "metadata": {},
   "outputs": [],
   "source": [
    "s = child(\"test1.txt\")"
   ]
  },
  {
   "cell_type": "code",
   "execution_count": 99,
   "id": "7abc0fd5",
   "metadata": {},
   "outputs": [
    {
     "name": "stdout",
     "output_type": "stream",
     "text": [
      "Hello everyone ! Wlcome to this course!\n",
      "\n",
      "I am learning this course.\n",
      "It is data science full course.\n"
     ]
    }
   ],
   "source": [
    "s.read()"
   ]
  },
  {
   "cell_type": "code",
   "execution_count": 101,
   "id": "da2a50d8",
   "metadata": {},
   "outputs": [],
   "source": [
    "s.write(\"This is a OOPS class\")"
   ]
  },
  {
   "cell_type": "code",
   "execution_count": 102,
   "id": "b2381259",
   "metadata": {},
   "outputs": [
    {
     "name": "stdout",
     "output_type": "stream",
     "text": [
      "Hello everyone ! Wlcome to this course!\n",
      "\n",
      "I am learning this course.\n",
      "It is data science full course.This is a OOPS class\n"
     ]
    }
   ],
   "source": [
    "s.read()"
   ]
  },
  {
   "cell_type": "code",
   "execution_count": 107,
   "id": "8d278386",
   "metadata": {},
   "outputs": [],
   "source": [
    "#Since I have created a module for above class as well. Lets see its working."
   ]
  },
  {
   "cell_type": "code",
   "execution_count": 108,
   "id": "02c1d6e1",
   "metadata": {},
   "outputs": [],
   "source": [
    "import read_and_write"
   ]
  },
  {
   "cell_type": "code",
   "execution_count": 114,
   "id": "2d6b2aa4",
   "metadata": {},
   "outputs": [],
   "source": [
    "s = read_and_write.child(\"test2.txt\")"
   ]
  },
  {
   "cell_type": "code",
   "execution_count": 115,
   "id": "b2369373",
   "metadata": {},
   "outputs": [
    {
     "name": "stdout",
     "output_type": "stream",
     "text": [
      "this is the data i would like to store in my file\n",
      "\n"
     ]
    }
   ],
   "source": [
    "s.read()"
   ]
  },
  {
   "cell_type": "code",
   "execution_count": 116,
   "id": "bea3dae2",
   "metadata": {},
   "outputs": [],
   "source": [
    "s.write(\"This is OOPS class in python \")"
   ]
  },
  {
   "cell_type": "code",
   "execution_count": 117,
   "id": "cc871916",
   "metadata": {},
   "outputs": [
    {
     "name": "stdout",
     "output_type": "stream",
     "text": [
      "this is the data i would like to store in my file\n",
      "This is OOPS class in python \n"
     ]
    }
   ],
   "source": [
    "s.read()"
   ]
  },
  {
   "cell_type": "markdown",
   "id": "c2a25fa4",
   "metadata": {},
   "source": [
    "### Public Private and Protected/ Encapsulation"
   ]
  },
  {
   "cell_type": "code",
   "execution_count": 1,
   "id": "470d3d9d",
   "metadata": {},
   "outputs": [],
   "source": [
    "class test:\n",
    "    def __init__(self):\n",
    "        self.a = 4\n",
    "        \n",
    "class test1(test):\n",
    "    def __init__(self):\n",
    "        self.a = 7\n",
    "        \n",
    "u = test()\n",
    "v = test1()"
   ]
  },
  {
   "cell_type": "code",
   "execution_count": 2,
   "id": "4f16888e",
   "metadata": {},
   "outputs": [
    {
     "data": {
      "text/plain": [
       "4"
      ]
     },
     "execution_count": 2,
     "metadata": {},
     "output_type": "execute_result"
    }
   ],
   "source": [
    "u.a"
   ]
  },
  {
   "cell_type": "code",
   "execution_count": 3,
   "id": "8b2b4f63",
   "metadata": {},
   "outputs": [
    {
     "data": {
      "text/plain": [
       "7"
      ]
     },
     "execution_count": 3,
     "metadata": {},
     "output_type": "execute_result"
    }
   ],
   "source": [
    "v.a"
   ]
  },
  {
   "cell_type": "code",
   "execution_count": 4,
   "id": "e6017015",
   "metadata": {},
   "outputs": [],
   "source": [
    "# __a = private variable\n",
    "# _a = protected variable\n",
    "# a = public variable"
   ]
  },
  {
   "cell_type": "code",
   "execution_count": 5,
   "id": "77b491d1",
   "metadata": {},
   "outputs": [],
   "source": [
    "class test:\n",
    "    def __init__(self,a,b,c):\n",
    "        self.a = a\n",
    "        self._b = b\n",
    "        self.__c = c\n",
    "        \n",
    "v = test(4,5,6)"
   ]
  },
  {
   "cell_type": "code",
   "execution_count": 6,
   "id": "b405b9d3",
   "metadata": {},
   "outputs": [
    {
     "data": {
      "text/plain": [
       "4"
      ]
     },
     "execution_count": 6,
     "metadata": {},
     "output_type": "execute_result"
    }
   ],
   "source": [
    "v.a"
   ]
  },
  {
   "cell_type": "code",
   "execution_count": 9,
   "id": "652d24d6",
   "metadata": {},
   "outputs": [
    {
     "data": {
      "text/plain": [
       "5"
      ]
     },
     "execution_count": 9,
     "metadata": {},
     "output_type": "execute_result"
    }
   ],
   "source": [
    "v._b #To acces protected variable"
   ]
  },
  {
   "cell_type": "code",
   "execution_count": 8,
   "id": "1e1af872",
   "metadata": {},
   "outputs": [
    {
     "ename": "AttributeError",
     "evalue": "'test' object has no attribute '__c'",
     "output_type": "error",
     "traceback": [
      "\u001b[1;31m---------------------------------------------------------------------------\u001b[0m",
      "\u001b[1;31mAttributeError\u001b[0m                            Traceback (most recent call last)",
      "Input \u001b[1;32mIn [8]\u001b[0m, in \u001b[0;36m<cell line: 1>\u001b[1;34m()\u001b[0m\n\u001b[1;32m----> 1\u001b[0m \u001b[43mv\u001b[49m\u001b[38;5;241;43m.\u001b[39;49m\u001b[43m__c\u001b[49m\n",
      "\u001b[1;31mAttributeError\u001b[0m: 'test' object has no attribute '__c'"
     ]
    }
   ],
   "source": [
    "v.__c"
   ]
  },
  {
   "cell_type": "code",
   "execution_count": 14,
   "id": "79f401d7",
   "metadata": {},
   "outputs": [],
   "source": [
    "# To access private variable use _classname before varibale name"
   ]
  },
  {
   "cell_type": "code",
   "execution_count": 15,
   "id": "3d3ade06",
   "metadata": {},
   "outputs": [
    {
     "data": {
      "text/plain": [
       "6"
      ]
     },
     "execution_count": 15,
     "metadata": {},
     "output_type": "execute_result"
    }
   ],
   "source": [
    "v._test__c"
   ]
  },
  {
   "cell_type": "code",
   "execution_count": 16,
   "id": "5e7b2dec",
   "metadata": {},
   "outputs": [],
   "source": [
    "# Scope of public variable is inside and outside of class.\n",
    "# Scooe of protected class is within parent and child class.\n",
    "# Scope of private class is only inside the class. Can acces it in child class with certain notion."
   ]
  },
  {
   "cell_type": "code",
   "execution_count": 17,
   "id": "c31e89a9",
   "metadata": {},
   "outputs": [],
   "source": [
    "class test:\n",
    "    def __init__(self,a,b,c):\n",
    "        self.a = a\n",
    "        self._b = b\n",
    "        self.__c = c\n",
    "        \n",
    "class test1(test):\n",
    "    pass\n",
    "        \n",
    "v = test(4,5,6)\n",
    "u = test1(7,8,9)"
   ]
  },
  {
   "cell_type": "code",
   "execution_count": 18,
   "id": "8741a1d1",
   "metadata": {},
   "outputs": [
    {
     "data": {
      "text/plain": [
       "4"
      ]
     },
     "execution_count": 18,
     "metadata": {},
     "output_type": "execute_result"
    }
   ],
   "source": [
    "v.a"
   ]
  },
  {
   "cell_type": "code",
   "execution_count": 19,
   "id": "566512b1",
   "metadata": {},
   "outputs": [
    {
     "data": {
      "text/plain": [
       "5"
      ]
     },
     "execution_count": 19,
     "metadata": {},
     "output_type": "execute_result"
    }
   ],
   "source": [
    "v._b"
   ]
  },
  {
   "cell_type": "code",
   "execution_count": 20,
   "id": "158897bb",
   "metadata": {},
   "outputs": [
    {
     "data": {
      "text/plain": [
       "6"
      ]
     },
     "execution_count": 20,
     "metadata": {},
     "output_type": "execute_result"
    }
   ],
   "source": [
    "v._test__c"
   ]
  },
  {
   "cell_type": "code",
   "execution_count": 21,
   "id": "c7212de0",
   "metadata": {},
   "outputs": [],
   "source": [
    "#Able to acces all three variables inside the parent class. Now lets see for child class."
   ]
  },
  {
   "cell_type": "code",
   "execution_count": 22,
   "id": "969a0cc6",
   "metadata": {},
   "outputs": [
    {
     "data": {
      "text/plain": [
       "7"
      ]
     },
     "execution_count": 22,
     "metadata": {},
     "output_type": "execute_result"
    }
   ],
   "source": [
    "u.a"
   ]
  },
  {
   "cell_type": "code",
   "execution_count": 23,
   "id": "83632086",
   "metadata": {},
   "outputs": [
    {
     "data": {
      "text/plain": [
       "8"
      ]
     },
     "execution_count": 23,
     "metadata": {},
     "output_type": "execute_result"
    }
   ],
   "source": [
    "u._b"
   ]
  },
  {
   "cell_type": "code",
   "execution_count": 26,
   "id": "a077f0fb",
   "metadata": {},
   "outputs": [
    {
     "ename": "AttributeError",
     "evalue": "'test1' object has no attribute '_test1__c'",
     "output_type": "error",
     "traceback": [
      "\u001b[1;31m---------------------------------------------------------------------------\u001b[0m",
      "\u001b[1;31mAttributeError\u001b[0m                            Traceback (most recent call last)",
      "Input \u001b[1;32mIn [26]\u001b[0m, in \u001b[0;36m<cell line: 1>\u001b[1;34m()\u001b[0m\n\u001b[1;32m----> 1\u001b[0m \u001b[43mu\u001b[49m\u001b[38;5;241;43m.\u001b[39;49m\u001b[43m_test1__c\u001b[49m\n",
      "\u001b[1;31mAttributeError\u001b[0m: 'test1' object has no attribute '_test1__c'"
     ]
    }
   ],
   "source": [
    "u._test1__c"
   ]
  },
  {
   "cell_type": "code",
   "execution_count": 27,
   "id": "c1f23cd7",
   "metadata": {},
   "outputs": [],
   "source": [
    "# Not able to access private variable in child class, while public and proteced were accessible."
   ]
  },
  {
   "cell_type": "code",
   "execution_count": 28,
   "id": "b921661c",
   "metadata": {},
   "outputs": [],
   "source": [
    "# To access private variable inside a child class, use _parentclassname instead of _child class name."
   ]
  },
  {
   "cell_type": "code",
   "execution_count": 29,
   "id": "f5e61e78",
   "metadata": {},
   "outputs": [
    {
     "data": {
      "text/plain": [
       "9"
      ]
     },
     "execution_count": 29,
     "metadata": {},
     "output_type": "execute_result"
    }
   ],
   "source": [
    "u._test__c"
   ]
  },
  {
   "cell_type": "code",
   "execution_count": null,
   "id": "15cb6819",
   "metadata": {},
   "outputs": [],
   "source": []
  }
 ],
 "metadata": {
  "kernelspec": {
   "display_name": "Python 3 (ipykernel)",
   "language": "python",
   "name": "python3"
  },
  "language_info": {
   "codemirror_mode": {
    "name": "ipython",
    "version": 3
   },
   "file_extension": ".py",
   "mimetype": "text/x-python",
   "name": "python",
   "nbconvert_exporter": "python",
   "pygments_lexer": "ipython3",
   "version": "3.9.12"
  }
 },
 "nbformat": 4,
 "nbformat_minor": 5
}
