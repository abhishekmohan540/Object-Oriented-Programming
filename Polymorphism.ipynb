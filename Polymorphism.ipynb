{
 "cells": [
  {
   "cell_type": "markdown",
   "id": "5a9ca33c",
   "metadata": {},
   "source": [
    "## Polymorphism"
   ]
  },
  {
   "cell_type": "markdown",
   "id": "e617053b",
   "metadata": {},
   "source": [
    "### What is Polymorphism: \n",
    "The word polymorphism means having many forms. In programming, polymorphism means the same function name (but different signatures) being used for different types. The key difference is the data types and number of arguments used in function."
   ]
  },
  {
   "cell_type": "code",
   "execution_count": 1,
   "id": "926ebdd0",
   "metadata": {},
   "outputs": [
    {
     "name": "stdout",
     "output_type": "stream",
     "text": [
      "5\n",
      "3\n"
     ]
    }
   ],
   "source": [
    "# len() being used for a string\n",
    "print(len(\"geeks\"))\n",
    " \n",
    "# len() being used for a list\n",
    "print(len([10, 20, 30]))"
   ]
  },
  {
   "cell_type": "code",
   "execution_count": null,
   "id": "82d941e3",
   "metadata": {},
   "outputs": [],
   "source": []
  },
  {
   "cell_type": "code",
   "execution_count": 1,
   "id": "6a2dc38f",
   "metadata": {},
   "outputs": [],
   "source": [
    "class insta:\n",
    "    def share_stories(self):\n",
    "        print(\"this is my insta stories\")\n",
    "        \n",
    "class facebook:\n",
    "    def share_stories(self):\n",
    "        print(\"this is my facebook stories\")\n",
    "        "
   ]
  },
  {
   "cell_type": "code",
   "execution_count": 2,
   "id": "1bc7fe62",
   "metadata": {},
   "outputs": [],
   "source": [
    "def sharestories(app):\n",
    "    app.share_stories()"
   ]
  },
  {
   "cell_type": "code",
   "execution_count": 10,
   "id": "f23756ca",
   "metadata": {},
   "outputs": [],
   "source": [
    "i = insta()\n",
    "f = facebook()"
   ]
  },
  {
   "cell_type": "code",
   "execution_count": 11,
   "id": "1dfb4a1c",
   "metadata": {},
   "outputs": [
    {
     "name": "stdout",
     "output_type": "stream",
     "text": [
      "this is my insta stories\n"
     ]
    }
   ],
   "source": [
    "sharestories(i)"
   ]
  },
  {
   "cell_type": "code",
   "execution_count": 12,
   "id": "8c2007e7",
   "metadata": {},
   "outputs": [
    {
     "name": "stdout",
     "output_type": "stream",
     "text": [
      "this is my facebook stories\n"
     ]
    }
   ],
   "source": [
    "sharestories(f)"
   ]
  },
  {
   "cell_type": "code",
   "execution_count": 18,
   "id": "56b9c2a5",
   "metadata": {},
   "outputs": [],
   "source": [
    "class social_media:\n",
    "    def share_stories(self):\n",
    "        print(\"this is my story\")\n",
    "    def upload_pic(self):\n",
    "        print(\"this will help you to upload a pic\")\n",
    "        \n",
    "class facebook(social_media):\n",
    "    def share_stories(self):\n",
    "        print(\"this is a fun for sharing stories for facebook\")\n",
    "        \n",
    "class insta(social_media):\n",
    "    def share_stories(self):\n",
    "        print(\"this is fun for sharing insta stories\")"
   ]
  },
  {
   "cell_type": "code",
   "execution_count": 19,
   "id": "c85a8d3a",
   "metadata": {},
   "outputs": [],
   "source": [
    "u = facebook()\n",
    "v = insta()"
   ]
  },
  {
   "cell_type": "code",
   "execution_count": 20,
   "id": "8d13346a",
   "metadata": {},
   "outputs": [
    {
     "name": "stdout",
     "output_type": "stream",
     "text": [
      "this is a fun for sharing stories for facebook\n"
     ]
    }
   ],
   "source": [
    "u.share_stories()"
   ]
  },
  {
   "cell_type": "code",
   "execution_count": 21,
   "id": "83c00ccd",
   "metadata": {},
   "outputs": [
    {
     "name": "stdout",
     "output_type": "stream",
     "text": [
      "this will help you to upload a pic\n"
     ]
    }
   ],
   "source": [
    "u.upload_pic()"
   ]
  },
  {
   "cell_type": "code",
   "execution_count": 22,
   "id": "cdfb0467",
   "metadata": {},
   "outputs": [
    {
     "name": "stdout",
     "output_type": "stream",
     "text": [
      "this is fun for sharing insta stories\n"
     ]
    }
   ],
   "source": [
    "v.share_stories()"
   ]
  },
  {
   "cell_type": "code",
   "execution_count": 23,
   "id": "30c1d990",
   "metadata": {},
   "outputs": [
    {
     "name": "stdout",
     "output_type": "stream",
     "text": [
      "this will help you to upload a pic\n"
     ]
    }
   ],
   "source": [
    "v.upload_pic()"
   ]
  },
  {
   "cell_type": "code",
   "execution_count": 24,
   "id": "e541c946",
   "metadata": {},
   "outputs": [],
   "source": [
    "## How to create my own Exception class"
   ]
  },
  {
   "cell_type": "code",
   "execution_count": 31,
   "id": "d7e2719f",
   "metadata": {},
   "outputs": [],
   "source": [
    "class test(Exception):\n",
    "    def __init__(self, msg):\n",
    "        self.msg = msg\n",
    "        "
   ]
  },
  {
   "cell_type": "code",
   "execution_count": 32,
   "id": "fcee8de1",
   "metadata": {},
   "outputs": [
    {
     "name": "stdout",
     "output_type": "stream",
     "text": [
      "this is my own exception \n"
     ]
    }
   ],
   "source": [
    "try:\n",
    "    raise test(\"this is my own exception \")\n",
    "except test as t:\n",
    "    print(t)"
   ]
  },
  {
   "cell_type": "code",
   "execution_count": 33,
   "id": "06e06f4c",
   "metadata": {},
   "outputs": [],
   "source": [
    "#Concept of class variable(static varibale) and instance varaible"
   ]
  },
  {
   "cell_type": "code",
   "execution_count": 34,
   "id": "5bac3881",
   "metadata": {},
   "outputs": [],
   "source": [
    "class batch_number:\n",
    "    batchnumber = \"FSDS\"\n",
    "    def __init__(self,a,b,c):\n",
    "        self.a = a\n",
    "        self.b = b\n",
    "        self.c = c\n",
    "        \n",
    "    @staticmethod\n",
    "    def batch():\n",
    "        print(\"this is static method\")\n",
    "        \n",
    "    def batch1(self):\n",
    "        print(\"this is instance method\")"
   ]
  },
  {
   "cell_type": "code",
   "execution_count": 35,
   "id": "de63f644",
   "metadata": {},
   "outputs": [
    {
     "data": {
      "text/plain": [
       "'FSDS'"
      ]
     },
     "execution_count": 35,
     "metadata": {},
     "output_type": "execute_result"
    }
   ],
   "source": [
    "batch_number.batchnumber"
   ]
  },
  {
   "cell_type": "code",
   "execution_count": 36,
   "id": "a9f04ea4",
   "metadata": {},
   "outputs": [
    {
     "ename": "AttributeError",
     "evalue": "type object 'batch_number' has no attribute 'a'",
     "output_type": "error",
     "traceback": [
      "\u001b[1;31m---------------------------------------------------------------------------\u001b[0m",
      "\u001b[1;31mAttributeError\u001b[0m                            Traceback (most recent call last)",
      "Input \u001b[1;32mIn [36]\u001b[0m, in \u001b[0;36m<cell line: 1>\u001b[1;34m()\u001b[0m\n\u001b[1;32m----> 1\u001b[0m \u001b[43mbatch_number\u001b[49m\u001b[38;5;241;43m.\u001b[39;49m\u001b[43ma\u001b[49m\n",
      "\u001b[1;31mAttributeError\u001b[0m: type object 'batch_number' has no attribute 'a'"
     ]
    }
   ],
   "source": [
    "batch_number.a"
   ]
  },
  {
   "cell_type": "code",
   "execution_count": 37,
   "id": "672e0924",
   "metadata": {},
   "outputs": [],
   "source": [
    "# Here, batchnumber is a static variable or class variable, which can be accesed directly with help of class.\n",
    "# While a,b,c are instance variable, which can be accessed only with help of object of class."
   ]
  },
  {
   "cell_type": "code",
   "execution_count": 39,
   "id": "7ff17c12",
   "metadata": {},
   "outputs": [],
   "source": [
    "z = batch_number(1,2,3)"
   ]
  },
  {
   "cell_type": "code",
   "execution_count": 40,
   "id": "54f5aa64",
   "metadata": {},
   "outputs": [
    {
     "data": {
      "text/plain": [
       "1"
      ]
     },
     "execution_count": 40,
     "metadata": {},
     "output_type": "execute_result"
    }
   ],
   "source": [
    "z.a"
   ]
  },
  {
   "cell_type": "code",
   "execution_count": 41,
   "id": "44584c0f",
   "metadata": {},
   "outputs": [
    {
     "data": {
      "text/plain": [
       "3"
      ]
     },
     "execution_count": 41,
     "metadata": {},
     "output_type": "execute_result"
    }
   ],
   "source": [
    "z.c"
   ]
  },
  {
   "cell_type": "code",
   "execution_count": 42,
   "id": "0e86cc73",
   "metadata": {},
   "outputs": [],
   "source": [
    "# Similarly, batch() is a static function and hence can be accessed directly with help of class.\n",
    "# While batch1() is a instance function which can be accessed only with class varibale."
   ]
  },
  {
   "cell_type": "code",
   "execution_count": 43,
   "id": "577041cb",
   "metadata": {},
   "outputs": [
    {
     "name": "stdout",
     "output_type": "stream",
     "text": [
      "this is static method\n"
     ]
    }
   ],
   "source": [
    "batch_number.batch()"
   ]
  },
  {
   "cell_type": "code",
   "execution_count": 44,
   "id": "72fabb4e",
   "metadata": {},
   "outputs": [
    {
     "ename": "TypeError",
     "evalue": "batch1() missing 1 required positional argument: 'self'",
     "output_type": "error",
     "traceback": [
      "\u001b[1;31m---------------------------------------------------------------------------\u001b[0m",
      "\u001b[1;31mTypeError\u001b[0m                                 Traceback (most recent call last)",
      "Input \u001b[1;32mIn [44]\u001b[0m, in \u001b[0;36m<cell line: 1>\u001b[1;34m()\u001b[0m\n\u001b[1;32m----> 1\u001b[0m \u001b[43mbatch_number\u001b[49m\u001b[38;5;241;43m.\u001b[39;49m\u001b[43mbatch1\u001b[49m\u001b[43m(\u001b[49m\u001b[43m)\u001b[49m\n",
      "\u001b[1;31mTypeError\u001b[0m: batch1() missing 1 required positional argument: 'self'"
     ]
    }
   ],
   "source": [
    "batch_number.batch1()"
   ]
  },
  {
   "cell_type": "code",
   "execution_count": 45,
   "id": "0062dd98",
   "metadata": {},
   "outputs": [
    {
     "name": "stdout",
     "output_type": "stream",
     "text": [
      "this is instance method\n"
     ]
    }
   ],
   "source": [
    "z.batch1()"
   ]
  },
  {
   "cell_type": "code",
   "execution_count": 46,
   "id": "02ddd0fc",
   "metadata": {},
   "outputs": [],
   "source": [
    "# To create a static function or class funtion, we have to use a decorator. ie. @staticmethod"
   ]
  },
  {
   "cell_type": "markdown",
   "id": "cbf3c769",
   "metadata": {},
   "source": [
    "### Abstraction:- Abstraction is all bout creating a blueprint."
   ]
  },
  {
   "cell_type": "markdown",
   "id": "d06954bb",
   "metadata": {},
   "source": [
    "### Overloading"
   ]
  },
  {
   "cell_type": "code",
   "execution_count": 2,
   "id": "f1bd2efc",
   "metadata": {},
   "outputs": [],
   "source": [
    "class test:\n",
    "    def fun(self):\n",
    "        print(\"this is my sample class\")\n",
    "        \n",
    "        "
   ]
  },
  {
   "cell_type": "code",
   "execution_count": 4,
   "id": "d2899152",
   "metadata": {},
   "outputs": [],
   "source": [
    "t = test()"
   ]
  },
  {
   "cell_type": "code",
   "execution_count": 5,
   "id": "aac40b08",
   "metadata": {},
   "outputs": [
    {
     "data": {
      "text/plain": [
       "<__main__.test at 0x1937ee82250>"
      ]
     },
     "execution_count": 5,
     "metadata": {},
     "output_type": "execute_result"
    }
   ],
   "source": [
    "t"
   ]
  },
  {
   "cell_type": "code",
   "execution_count": 6,
   "id": "cb52fa9d",
   "metadata": {},
   "outputs": [
    {
     "name": "stdout",
     "output_type": "stream",
     "text": [
      "<__main__.test object at 0x000001937EE82250>\n"
     ]
    }
   ],
   "source": [
    "print(t)"
   ]
  },
  {
   "cell_type": "code",
   "execution_count": 10,
   "id": "62f6f3f1",
   "metadata": {},
   "outputs": [],
   "source": [
    "class test:\n",
    "    def fun(self):\n",
    "        print(\"this is my sample class\")\n",
    "        \n",
    "    def __str__(self):\n",
    "        return str(\"this is fun called at time of object printing\")"
   ]
  },
  {
   "cell_type": "code",
   "execution_count": 11,
   "id": "32c9a46c",
   "metadata": {},
   "outputs": [],
   "source": [
    "t1 = test()"
   ]
  },
  {
   "cell_type": "code",
   "execution_count": 12,
   "id": "1d14cf91",
   "metadata": {},
   "outputs": [
    {
     "name": "stdout",
     "output_type": "stream",
     "text": [
      "this is fun called at time of object printing\n"
     ]
    }
   ],
   "source": [
    "print(t1)"
   ]
  },
  {
   "cell_type": "code",
   "execution_count": 13,
   "id": "accff40c",
   "metadata": {},
   "outputs": [],
   "source": [
    "# __str__ is a inbilt function which overloades the message when called through object."
   ]
  },
  {
   "cell_type": "code",
   "execution_count": null,
   "id": "3cad1058",
   "metadata": {},
   "outputs": [],
   "source": []
  }
 ],
 "metadata": {
  "kernelspec": {
   "display_name": "Python 3 (ipykernel)",
   "language": "python",
   "name": "python3"
  },
  "language_info": {
   "codemirror_mode": {
    "name": "ipython",
    "version": 3
   },
   "file_extension": ".py",
   "mimetype": "text/x-python",
   "name": "python",
   "nbconvert_exporter": "python",
   "pygments_lexer": "ipython3",
   "version": "3.9.12"
  }
 },
 "nbformat": 4,
 "nbformat_minor": 5
}
