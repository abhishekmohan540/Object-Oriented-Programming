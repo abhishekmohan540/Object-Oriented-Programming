{
 "cells": [
  {
   "cell_type": "code",
   "execution_count": 1,
   "id": "341a94f5",
   "metadata": {},
   "outputs": [],
   "source": [
    "class car:\n",
    "    def __init__(self, brand_name, fuel_type, body_type):\n",
    "        self.brand_name = brand_name\n",
    "        self.fuel_type = fuel_type\n",
    "        self.body_type = body_type\n",
    "        \n",
    "    def desc_car(self):\n",
    "        print(self.brand_name, self.fuel_type, self.body_type)\n",
    "        "
   ]
  },
  {
   "cell_type": "code",
   "execution_count": 5,
   "id": "206cdfb2",
   "metadata": {},
   "outputs": [],
   "source": [
    "innova = car(\"toyota\", \"petrol\", \"SUV\")\n",
    "nexon = car(\"tata\", \"petrol\", \"mini suv\")\n",
    "fortuner = car(\"toyota\", \"diesel\", \"SUV\")"
   ]
  },
  {
   "cell_type": "code",
   "execution_count": 6,
   "id": "9fea3d0b",
   "metadata": {},
   "outputs": [
    {
     "name": "stdout",
     "output_type": "stream",
     "text": [
      "toyota petrol SUV\n"
     ]
    }
   ],
   "source": [
    "innova.desc_car()"
   ]
  },
  {
   "cell_type": "code",
   "execution_count": 10,
   "id": "cedc915a",
   "metadata": {},
   "outputs": [
    {
     "data": {
      "text/plain": [
       "'toyota'"
      ]
     },
     "execution_count": 10,
     "metadata": {},
     "output_type": "execute_result"
    }
   ],
   "source": [
    "innova.brand_name"
   ]
  },
  {
   "cell_type": "code",
   "execution_count": 9,
   "id": "c9752aea",
   "metadata": {},
   "outputs": [
    {
     "name": "stdout",
     "output_type": "stream",
     "text": [
      "tata petrol mini suv\n"
     ]
    }
   ],
   "source": [
    "nexon.desc_car()"
   ]
  },
  {
   "cell_type": "code",
   "execution_count": 11,
   "id": "3dc6a8c0",
   "metadata": {},
   "outputs": [],
   "source": [
    "#Here innova, nexon and fortuner are variables called as object of class car."
   ]
  },
  {
   "cell_type": "code",
   "execution_count": 12,
   "id": "e9e9f7fa",
   "metadata": {},
   "outputs": [],
   "source": [
    "# integer, string, list, tuple are all class"
   ]
  },
  {
   "cell_type": "code",
   "execution_count": 30,
   "id": "3d25aaef",
   "metadata": {},
   "outputs": [],
   "source": [
    "# __init__ is a constructor which help us to pass data to class.\n",
    "# Self is like a pointer which helps class to understand what is being passed to it. It is not a keyword."
   ]
  },
  {
   "cell_type": "code",
   "execution_count": 13,
   "id": "d5d47d7e",
   "metadata": {},
   "outputs": [
    {
     "name": "stdout",
     "output_type": "stream",
     "text": [
      "<class 'int'>\n"
     ]
    }
   ],
   "source": [
    "a = 5\n",
    "print(type(a))"
   ]
  },
  {
   "cell_type": "code",
   "execution_count": 14,
   "id": "d148fc4a",
   "metadata": {},
   "outputs": [
    {
     "name": "stdout",
     "output_type": "stream",
     "text": [
      "<class 'str'>\n"
     ]
    }
   ],
   "source": [
    "print(type(\"abhi\"))"
   ]
  },
  {
   "cell_type": "code",
   "execution_count": 20,
   "id": "9900e119",
   "metadata": {},
   "outputs": [],
   "source": [
    "class car:\n",
    "    def __init__(self, brand_name, fuel_type, body_type):\n",
    "        self.a = brand_name\n",
    "        self.b = fuel_type\n",
    "        self.c = body_type\n",
    "        \n",
    "    def desc_car(self):\n",
    "        print(self.brand_name, self.fuel_type, self.body_type)\n",
    "        "
   ]
  },
  {
   "cell_type": "code",
   "execution_count": 21,
   "id": "08b4ff59",
   "metadata": {},
   "outputs": [],
   "source": [
    "innova = car(\"toyota\", \"petrol\", \"SUV\")\n",
    "nexon = car(\"tata\", \"petrol\", \"mini suv\")\n",
    "fortuner = car(\"toyota\", \"diesel\", \"SUV\")"
   ]
  },
  {
   "cell_type": "code",
   "execution_count": 22,
   "id": "e9936966",
   "metadata": {},
   "outputs": [
    {
     "ename": "AttributeError",
     "evalue": "'car' object has no attribute 'brand_name'",
     "output_type": "error",
     "traceback": [
      "\u001b[1;31m---------------------------------------------------------------------------\u001b[0m",
      "\u001b[1;31mAttributeError\u001b[0m                            Traceback (most recent call last)",
      "Input \u001b[1;32mIn [22]\u001b[0m, in \u001b[0;36m<cell line: 1>\u001b[1;34m()\u001b[0m\n\u001b[1;32m----> 1\u001b[0m \u001b[43mfortuner\u001b[49m\u001b[38;5;241;43m.\u001b[39;49m\u001b[43mbrand_name\u001b[49m\n",
      "\u001b[1;31mAttributeError\u001b[0m: 'car' object has no attribute 'brand_name'"
     ]
    }
   ],
   "source": [
    "fortuner.brand_name"
   ]
  },
  {
   "cell_type": "code",
   "execution_count": 24,
   "id": "bfccdd13",
   "metadata": {},
   "outputs": [],
   "source": [
    "# self.a , self.b, and self.c are vsriables of class car and through this only class \n",
    "# understands what brandname, fueltype & bodytype is."
   ]
  },
  {
   "cell_type": "code",
   "execution_count": 25,
   "id": "d02c0c22",
   "metadata": {},
   "outputs": [],
   "source": [
    "# This is the reason that it is showing error when we are calling it with fortuner.brand_name"
   ]
  },
  {
   "cell_type": "code",
   "execution_count": 26,
   "id": "a086bcd6",
   "metadata": {},
   "outputs": [
    {
     "data": {
      "text/plain": [
       "'toyota'"
      ]
     },
     "execution_count": 26,
     "metadata": {},
     "output_type": "execute_result"
    }
   ],
   "source": [
    "fortuner.a"
   ]
  },
  {
   "cell_type": "code",
   "execution_count": 27,
   "id": "40a940b4",
   "metadata": {},
   "outputs": [
    {
     "data": {
      "text/plain": [
       "'diesel'"
      ]
     },
     "execution_count": 27,
     "metadata": {},
     "output_type": "execute_result"
    }
   ],
   "source": [
    "fortuner.b"
   ]
  },
  {
   "cell_type": "code",
   "execution_count": 28,
   "id": "0526088b",
   "metadata": {},
   "outputs": [
    {
     "data": {
      "text/plain": [
       "'SUV'"
      ]
     },
     "execution_count": 28,
     "metadata": {},
     "output_type": "execute_result"
    }
   ],
   "source": [
    "fortuner.c"
   ]
  },
  {
   "cell_type": "code",
   "execution_count": 29,
   "id": "77decc0e",
   "metadata": {},
   "outputs": [],
   "source": [
    "#This worked fine now when called through variables of class "
   ]
  },
  {
   "cell_type": "code",
   "execution_count": 31,
   "id": "0bd35035",
   "metadata": {},
   "outputs": [],
   "source": [
    "# The very first value provided inside a function in a class behave as a pointer."
   ]
  },
  {
   "cell_type": "code",
   "execution_count": 32,
   "id": "eba65377",
   "metadata": {},
   "outputs": [],
   "source": [
    "# INstead of self we can use any name"
   ]
  },
  {
   "cell_type": "code",
   "execution_count": 33,
   "id": "c0c18104",
   "metadata": {},
   "outputs": [],
   "source": [
    "class car:\n",
    "    def test(abhi):\n",
    "        print(\"This is my class\")"
   ]
  },
  {
   "cell_type": "code",
   "execution_count": 34,
   "id": "283bafd2",
   "metadata": {},
   "outputs": [],
   "source": [
    "x = car()"
   ]
  },
  {
   "cell_type": "code",
   "execution_count": 35,
   "id": "d5b68ed0",
   "metadata": {},
   "outputs": [
    {
     "name": "stdout",
     "output_type": "stream",
     "text": [
      "This is my class\n"
     ]
    }
   ],
   "source": [
    "x.test()"
   ]
  },
  {
   "cell_type": "code",
   "execution_count": 36,
   "id": "ccc8af4a",
   "metadata": {},
   "outputs": [],
   "source": [
    "# abhi is  my pointer.\n",
    "# x is object of class\n",
    "# NOt compulsory to use __init__. This was used to pass values to class"
   ]
  },
  {
   "cell_type": "code",
   "execution_count": 37,
   "id": "d9fe2e75",
   "metadata": {},
   "outputs": [],
   "source": [
    "class car:\n",
    "    def test(abhi,a,b):\n",
    "        print(\"This is my class\")"
   ]
  },
  {
   "cell_type": "code",
   "execution_count": 38,
   "id": "23a00d3e",
   "metadata": {},
   "outputs": [],
   "source": [
    "x = car()"
   ]
  },
  {
   "cell_type": "code",
   "execution_count": 39,
   "id": "1ea56853",
   "metadata": {},
   "outputs": [
    {
     "ename": "TypeError",
     "evalue": "test() missing 2 required positional arguments: 'a' and 'b'",
     "output_type": "error",
     "traceback": [
      "\u001b[1;31m---------------------------------------------------------------------------\u001b[0m",
      "\u001b[1;31mTypeError\u001b[0m                                 Traceback (most recent call last)",
      "Input \u001b[1;32mIn [39]\u001b[0m, in \u001b[0;36m<cell line: 1>\u001b[1;34m()\u001b[0m\n\u001b[1;32m----> 1\u001b[0m \u001b[43mx\u001b[49m\u001b[38;5;241;43m.\u001b[39;49m\u001b[43mtest\u001b[49m\u001b[43m(\u001b[49m\u001b[43m)\u001b[49m\n",
      "\u001b[1;31mTypeError\u001b[0m: test() missing 2 required positional arguments: 'a' and 'b'"
     ]
    }
   ],
   "source": [
    "x.test()"
   ]
  },
  {
   "cell_type": "code",
   "execution_count": 40,
   "id": "8137c93b",
   "metadata": {},
   "outputs": [
    {
     "name": "stdout",
     "output_type": "stream",
     "text": [
      "This is my class\n"
     ]
    }
   ],
   "source": [
    "x.test(\"abhi\",56)"
   ]
  },
  {
   "cell_type": "code",
   "execution_count": 41,
   "id": "71c2db0d",
   "metadata": {},
   "outputs": [
    {
     "name": "stdout",
     "output_type": "stream",
     "text": [
      "This is my class\n"
     ]
    }
   ],
   "source": [
    "x.test(4,5)"
   ]
  },
  {
   "cell_type": "code",
   "execution_count": 9,
   "id": "8a0cc8b0",
   "metadata": {},
   "outputs": [],
   "source": [
    "class list_parser:\n",
    "    def parser(self, a):\n",
    "        if type(a) == list:\n",
    "            for i in a:\n",
    "                print(i)\n",
    "\n",
    "    def reverser(self, z):\n",
    "        if type(z) == list:\n",
    "            print(z[::-1])\n",
    "        "
   ]
  },
  {
   "cell_type": "code",
   "execution_count": 10,
   "id": "cad1be61",
   "metadata": {},
   "outputs": [],
   "source": [
    "c = list_parser()"
   ]
  },
  {
   "cell_type": "code",
   "execution_count": 11,
   "id": "6db1c85a",
   "metadata": {},
   "outputs": [
    {
     "name": "stdout",
     "output_type": "stream",
     "text": [
      "1\n",
      "2\n",
      "3\n",
      "4\n",
      "5\n"
     ]
    }
   ],
   "source": [
    "c.parser([1,2,3,4,5])"
   ]
  },
  {
   "cell_type": "code",
   "execution_count": 12,
   "id": "3413d1f4",
   "metadata": {},
   "outputs": [
    {
     "name": "stdout",
     "output_type": "stream",
     "text": [
      "[5, 4, 3, 2, 1]\n"
     ]
    }
   ],
   "source": [
    "c.reverser([1,2,3,4,5])"
   ]
  },
  {
   "cell_type": "code",
   "execution_count": 13,
   "id": "279225e6",
   "metadata": {},
   "outputs": [
    {
     "name": "stdout",
     "output_type": "stream",
     "text": [
      "[45, 23, 22]\n"
     ]
    }
   ],
   "source": [
    "c.reverser([22,23,45])"
   ]
  },
  {
   "cell_type": "code",
   "execution_count": 14,
   "id": "b22c6cf1",
   "metadata": {},
   "outputs": [],
   "source": [
    "#But now I wanrt to provide data only once and then call all the functions. So in that case we will use __init__."
   ]
  },
  {
   "cell_type": "code",
   "execution_count": 16,
   "id": "b4b244a2",
   "metadata": {},
   "outputs": [],
   "source": [
    "class list_parser:\n",
    "    def __init__(self, l):\n",
    "        self.L = l\n",
    "        \n",
    "    def parser(self):\n",
    "        if type(self.L) == list:\n",
    "            for i in self.L:\n",
    "                print(i)\n",
    "\n",
    "    def reverser(self):\n",
    "        if type(self.L) == list:\n",
    "            print(self.L[::-1])\n",
    "        "
   ]
  },
  {
   "cell_type": "code",
   "execution_count": 17,
   "id": "d539fcc6",
   "metadata": {},
   "outputs": [],
   "source": [
    "#__init__ is a construvtor, it has provided the data to class which can be used by the functions."
   ]
  },
  {
   "cell_type": "code",
   "execution_count": 18,
   "id": "bd43129b",
   "metadata": {},
   "outputs": [],
   "source": [
    "x = list_parser([1,2,3,4,5,6,7,8])"
   ]
  },
  {
   "cell_type": "code",
   "execution_count": 19,
   "id": "dbaeaae4",
   "metadata": {},
   "outputs": [
    {
     "name": "stdout",
     "output_type": "stream",
     "text": [
      "1\n",
      "2\n",
      "3\n",
      "4\n",
      "5\n",
      "6\n",
      "7\n",
      "8\n"
     ]
    }
   ],
   "source": [
    "x.parser()"
   ]
  },
  {
   "cell_type": "code",
   "execution_count": 20,
   "id": "ee36d4e4",
   "metadata": {},
   "outputs": [
    {
     "name": "stdout",
     "output_type": "stream",
     "text": [
      "[8, 7, 6, 5, 4, 3, 2, 1]\n"
     ]
    }
   ],
   "source": [
    "x.reverser()"
   ]
  },
  {
   "cell_type": "code",
   "execution_count": null,
   "id": "c151b5df",
   "metadata": {},
   "outputs": [],
   "source": [
    "# Write a class for dictionary parsing\n",
    "\n",
    "1. write a function to give all the keys\n",
    "2. write a function to give all the values\n",
    "3. write a function to throw an exception in case of input is not a dictionary\n",
    "4. write a function to take user input and then parse a keey and value out of dictionary\n",
    "5. write a function to insert new key value pair into a dictionary."
   ]
  },
  {
   "cell_type": "code",
   "execution_count": 82,
   "id": "c3651f48",
   "metadata": {},
   "outputs": [],
   "source": [
    "class dictionary_parsing:\n",
    "    \n",
    "    def __init__(self, d):\n",
    "        self.d = d\n",
    "\n",
    "    def give_keys(self):\n",
    "        if type(self.d) == dict:\n",
    "            return self.d.keys()\n",
    "\n",
    "    def give_values(self):\n",
    "        if type(self.d) == dict:\n",
    "            return self.d.values()\n",
    "\n",
    "    def give_error(self, dic):\n",
    "        if type(dic) != dict:\n",
    "            raise Exception (dic, \"Error! Enter dictionary\")\n",
    "            \n",
    "    def user_input(self):\n",
    "        self.d = eval(input())\n",
    "        print(self.d)\n",
    "    \n",
    "    def key_value_pair(self, key,value):\n",
    "        self.d[key] = value\n",
    "        print( self.d)\n",
    "    \n",
    "        \n",
    "        \n",
    "        \n",
    "\n"
   ]
  },
  {
   "cell_type": "code",
   "execution_count": 83,
   "id": "9145c16d",
   "metadata": {},
   "outputs": [],
   "source": [
    "x = dictionary_parsing({\"key1\": 123, \"key2\": 200, \"key3\": \"Hello\"})"
   ]
  },
  {
   "cell_type": "code",
   "execution_count": 59,
   "id": "9ddb9117",
   "metadata": {},
   "outputs": [
    {
     "data": {
      "text/plain": [
       "dict_keys(['key1', 'key2', 'key3'])"
      ]
     },
     "execution_count": 59,
     "metadata": {},
     "output_type": "execute_result"
    }
   ],
   "source": [
    "x.give_keys()"
   ]
  },
  {
   "cell_type": "code",
   "execution_count": 60,
   "id": "99976568",
   "metadata": {},
   "outputs": [
    {
     "data": {
      "text/plain": [
       "dict_values([123, 200, 'Hello'])"
      ]
     },
     "execution_count": 60,
     "metadata": {},
     "output_type": "execute_result"
    }
   ],
   "source": [
    "x.give_values()"
   ]
  },
  {
   "cell_type": "code",
   "execution_count": 61,
   "id": "01186fa6",
   "metadata": {},
   "outputs": [
    {
     "ename": "Exception",
     "evalue": "([1, 2, 3], 'Error! Enter dictionary')",
     "output_type": "error",
     "traceback": [
      "\u001b[1;31m---------------------------------------------------------------------------\u001b[0m",
      "\u001b[1;31mException\u001b[0m                                 Traceback (most recent call last)",
      "Input \u001b[1;32mIn [61]\u001b[0m, in \u001b[0;36m<cell line: 1>\u001b[1;34m()\u001b[0m\n\u001b[1;32m----> 1\u001b[0m \u001b[43mx\u001b[49m\u001b[38;5;241;43m.\u001b[39;49m\u001b[43mgive_error\u001b[49m\u001b[43m(\u001b[49m\u001b[43m[\u001b[49m\u001b[38;5;241;43m1\u001b[39;49m\u001b[43m,\u001b[49m\u001b[38;5;241;43m2\u001b[39;49m\u001b[43m,\u001b[49m\u001b[38;5;241;43m3\u001b[39;49m\u001b[43m]\u001b[49m\u001b[43m)\u001b[49m\n",
      "Input \u001b[1;32mIn [57]\u001b[0m, in \u001b[0;36mdictionary_parsing.give_error\u001b[1;34m(self, dic)\u001b[0m\n\u001b[0;32m     14\u001b[0m \u001b[38;5;28;01mdef\u001b[39;00m \u001b[38;5;21mgive_error\u001b[39m(\u001b[38;5;28mself\u001b[39m, dic):\n\u001b[0;32m     15\u001b[0m     \u001b[38;5;28;01mif\u001b[39;00m \u001b[38;5;28mtype\u001b[39m(dic) \u001b[38;5;241m!=\u001b[39m \u001b[38;5;28mdict\u001b[39m:\n\u001b[1;32m---> 16\u001b[0m         \u001b[38;5;28;01mraise\u001b[39;00m \u001b[38;5;167;01mException\u001b[39;00m (dic, \u001b[38;5;124m\"\u001b[39m\u001b[38;5;124mError! Enter dictionary\u001b[39m\u001b[38;5;124m\"\u001b[39m)\n",
      "\u001b[1;31mException\u001b[0m: ([1, 2, 3], 'Error! Enter dictionary')"
     ]
    }
   ],
   "source": [
    "x.give_error([1,2,3])"
   ]
  },
  {
   "cell_type": "code",
   "execution_count": 62,
   "id": "d4c2ea55",
   "metadata": {},
   "outputs": [],
   "source": [
    "x.give_error({\"key\":133})"
   ]
  },
  {
   "cell_type": "code",
   "execution_count": 84,
   "id": "f3d61277",
   "metadata": {},
   "outputs": [
    {
     "name": "stdout",
     "output_type": "stream",
     "text": [
      "{'key1': 123, 'key2': 200, 'key3': 'Hello', 'abhi': 123}\n"
     ]
    }
   ],
   "source": [
    "x.key_value_pair(\"abhi\",123)"
   ]
  },
  {
   "cell_type": "code",
   "execution_count": 68,
   "id": "a5e4d503",
   "metadata": {},
   "outputs": [
    {
     "name": "stdout",
     "output_type": "stream",
     "text": [
      "{\"key1\":123, \"key2\":566}\n",
      "{'key1': 123, 'key2': 566}\n"
     ]
    }
   ],
   "source": [
    "x.user_input()"
   ]
  },
  {
   "cell_type": "code",
   "execution_count": 85,
   "id": "763d080b",
   "metadata": {},
   "outputs": [
    {
     "name": "stdout",
     "output_type": "stream",
     "text": [
      "{'key1': 123, 'key2': 200, 'key3': 'Hello', 'abhi': 123, 123: 1200}\n"
     ]
    }
   ],
   "source": [
    "x.key_value_pair(123,1200)"
   ]
  },
  {
   "cell_type": "code",
   "execution_count": 89,
   "id": "d734ec5b",
   "metadata": {},
   "outputs": [
    {
     "ename": "Exception",
     "evalue": "([1, 2, 3], 'Error! Enter dictionary')",
     "output_type": "error",
     "traceback": [
      "\u001b[1;31m---------------------------------------------------------------------------\u001b[0m",
      "\u001b[1;31mException\u001b[0m                                 Traceback (most recent call last)",
      "Input \u001b[1;32mIn [89]\u001b[0m, in \u001b[0;36m<cell line: 1>\u001b[1;34m()\u001b[0m\n\u001b[1;32m----> 1\u001b[0m \u001b[43mx\u001b[49m\u001b[38;5;241;43m.\u001b[39;49m\u001b[43mgive_error\u001b[49m\u001b[43m(\u001b[49m\u001b[43m[\u001b[49m\u001b[38;5;241;43m1\u001b[39;49m\u001b[43m,\u001b[49m\u001b[38;5;241;43m2\u001b[39;49m\u001b[43m,\u001b[49m\u001b[38;5;241;43m3\u001b[39;49m\u001b[43m]\u001b[49m\u001b[43m)\u001b[49m\n",
      "Input \u001b[1;32mIn [82]\u001b[0m, in \u001b[0;36mdictionary_parsing.give_error\u001b[1;34m(self, dic)\u001b[0m\n\u001b[0;32m     14\u001b[0m \u001b[38;5;28;01mdef\u001b[39;00m \u001b[38;5;21mgive_error\u001b[39m(\u001b[38;5;28mself\u001b[39m, dic):\n\u001b[0;32m     15\u001b[0m     \u001b[38;5;28;01mif\u001b[39;00m \u001b[38;5;28mtype\u001b[39m(dic) \u001b[38;5;241m!=\u001b[39m \u001b[38;5;28mdict\u001b[39m:\n\u001b[1;32m---> 16\u001b[0m         \u001b[38;5;28;01mraise\u001b[39;00m \u001b[38;5;167;01mException\u001b[39;00m (dic, \u001b[38;5;124m\"\u001b[39m\u001b[38;5;124mError! Enter dictionary\u001b[39m\u001b[38;5;124m\"\u001b[39m)\n",
      "\u001b[1;31mException\u001b[0m: ([1, 2, 3], 'Error! Enter dictionary')"
     ]
    }
   ],
   "source": [
    "x.give_error([1,2,3])"
   ]
  },
  {
   "cell_type": "code",
   "execution_count": 90,
   "id": "473c0656",
   "metadata": {},
   "outputs": [],
   "source": [
    "# Now I want to use it as a module. So what to do next?"
   ]
  },
  {
   "cell_type": "code",
   "execution_count": 91,
   "id": "78a3e8c2",
   "metadata": {},
   "outputs": [
    {
     "data": {
      "text/plain": [
       "<_io.TextIOWrapper name='mydict.py' mode='w' encoding='cp1252'>"
      ]
     },
     "execution_count": 91,
     "metadata": {},
     "output_type": "execute_result"
    }
   ],
   "source": [
    "open(\"mydict.py\", \"w\")   #create a module named mydict"
   ]
  },
  {
   "cell_type": "code",
   "execution_count": 92,
   "id": "67dcb1b7",
   "metadata": {},
   "outputs": [
    {
     "name": "stdout",
     "output_type": "stream",
     "text": [
      " Volume in drive C has no label.\n",
      " Volume Serial Number is 0ADF-48C3\n",
      "\n",
      " Directory of C:\\Users\\DELL\n",
      "\n",
      "19-12-2022  17:41    <DIR>          .\n",
      "19-12-2022  17:41    <DIR>          ..\n",
      "24-09-2022  19:45               140 .bash_history\n",
      "03-09-2022  14:21    <DIR>          .cache\n",
      "24-09-2022  19:44                68 .gitconfig\n",
      "18-12-2022  18:46    <DIR>          .ipynb_checkpoints\n",
      "24-09-2022  19:24    <DIR>          .ipython\n",
      "19-11-2022  17:19    <DIR>          .jupyter\n",
      "19-09-2022  12:28    <DIR>          .vscode\n",
      "17-12-2022  17:19    <DIR>          __pycache__\n",
      "03-09-2022  13:41    <DIR>          3D Objects\n",
      "19-09-2022  11:22    <DIR>          anaconda3\n",
      "26-09-2022  13:32            19,859 Assignment_001.ipynb\n",
      "03-09-2022  13:41    <DIR>          Contacts\n",
      "03-10-2022  15:00            38,631 Copy_of_FSDS_bootcamp_assignment_002_Oct_01.ipynb\n",
      "01-10-2022  14:41            59,383 demo_002.ipynb\n",
      "01-10-2022  14:41            57,301 demo_003.ipynb\n",
      "09-10-2022  11:27           117,701 demo_005.ipynb\n",
      "19-11-2022  09:58    <DIR>          Desktop\n",
      "14-11-2022  12:40            22,228 Dictionary.ipynb\n",
      "19-09-2022  11:22    <DIR>          Documents\n",
      "19-12-2022  14:42    <DIR>          Downloads\n",
      "27-11-2022  17:53            38,151 Exception_Handling.ipynb\n",
      "03-09-2022  13:41    <DIR>          Favorites\n",
      "01-11-2022  14:09            22,859 FSDS_2.0_Assignment_29.10.2022_solutions.ipynb\n",
      "09-10-2022  19:56            20,416 FSDS_bootcamp_assignment_003_Oct_08.ipynb\n",
      "21-10-2022  21:07            15,610 FSDS_bootcamp_assignment_005_Oct_16_solutions.ipynb\n",
      "02-11-2022  20:50            14,305 function 30th oct practice FSDS_2.0.ipynb\n",
      "14-11-2022  13:12            24,150 Function_12_Nov'22.ipynb\n",
      "01-11-2022  12:56            12,801 Hello Everyone.docx\n",
      "21-11-2022  13:07            98,913 Iterator_Generator,_File_System.ipynb\n",
      "03-09-2022  13:41    <DIR>          Links\n",
      "28-11-2022  13:53             4,123 Logger.ipynb\n",
      "07-11-2022  18:03    <DIR>          Microsoft\n",
      "17-12-2022  18:07            19,075 Module and Packages.ipynb\n",
      "03-09-2022  13:41    <DIR>          Music\n",
      "17-12-2022  17:18               255 my_module.py\n",
      "19-12-2022  17:41                 0 mydict.py\n",
      "03-09-2022  13:50    <DIR>          OneDrive\n",
      "19-12-2022  17:40            20,502 OOPS - Class & Objects Part-1.ipynb\n",
      "03-09-2022  13:43    <DIR>          Pictures\n",
      "19-12-2022  14:45            78,277 questions.ipynb\n",
      "03-09-2022  13:41    <DIR>          Saved Games\n",
      "03-09-2022  13:43    <DIR>          Searches\n",
      "28-11-2022  13:16               284 test.log\n",
      "17-12-2022  16:36               141 test1.py\n",
      "19-11-2022  12:37               102 test1.txt\n",
      "28-11-2022  13:22               297 test2.log\n",
      "19-11-2022  12:21                51 test2.txt\n",
      "22-10-2022  00:14            35,653 Untitled.ipynb\n",
      "05-11-2022  11:41            48,228 Untitled1.ipynb\n",
      "26-11-2022  14:56               589 Untitled2.ipynb\n",
      "03-09-2022  14:00    <DIR>          Videos\n",
      "              30 File(s)        770,093 bytes\n",
      "              23 Dir(s)  88,560,435,200 bytes free\n"
     ]
    }
   ],
   "source": [
    "ls"
   ]
  },
  {
   "cell_type": "code",
   "execution_count": 93,
   "id": "68af3ac6",
   "metadata": {},
   "outputs": [],
   "source": [
    "# Go to C:\\Users\\DELL"
   ]
  },
  {
   "cell_type": "code",
   "execution_count": 94,
   "id": "566abd9e",
   "metadata": {},
   "outputs": [],
   "source": [
    "#Open the file in notepad and paste ur code there."
   ]
  },
  {
   "cell_type": "code",
   "execution_count": 95,
   "id": "c97b45e6",
   "metadata": {},
   "outputs": [],
   "source": [
    "# Now ready to use it as a module"
   ]
  },
  {
   "cell_type": "code",
   "execution_count": 96,
   "id": "f0fa2b8a",
   "metadata": {},
   "outputs": [],
   "source": [
    "import mydict"
   ]
  },
  {
   "cell_type": "code",
   "execution_count": 97,
   "id": "fb02b5cf",
   "metadata": {},
   "outputs": [
    {
     "data": {
      "text/plain": [
       "mydict.dictionary_parsing"
      ]
     },
     "execution_count": 97,
     "metadata": {},
     "output_type": "execute_result"
    }
   ],
   "source": [
    "mydict.dictionary_parsing"
   ]
  },
  {
   "cell_type": "code",
   "execution_count": 98,
   "id": "ef574352",
   "metadata": {},
   "outputs": [],
   "source": [
    "# We need a objectg to call the functions of class"
   ]
  },
  {
   "cell_type": "code",
   "execution_count": 104,
   "id": "f29c8474",
   "metadata": {},
   "outputs": [],
   "source": [
    "z = mydict.dictionary_parsing({\"Key1\": 123, \"key2\":[1,2,3]})"
   ]
  },
  {
   "cell_type": "code",
   "execution_count": 105,
   "id": "f921fa88",
   "metadata": {},
   "outputs": [
    {
     "data": {
      "text/plain": [
       "dict_keys(['Key1', 'key2'])"
      ]
     },
     "execution_count": 105,
     "metadata": {},
     "output_type": "execute_result"
    }
   ],
   "source": [
    "z.give_keys()"
   ]
  },
  {
   "cell_type": "code",
   "execution_count": 106,
   "id": "58005f6f",
   "metadata": {},
   "outputs": [
    {
     "data": {
      "text/plain": [
       "dict_values([123, [1, 2, 3]])"
      ]
     },
     "execution_count": 106,
     "metadata": {},
     "output_type": "execute_result"
    }
   ],
   "source": [
    "z.give_values()"
   ]
  },
  {
   "cell_type": "code",
   "execution_count": 107,
   "id": "fa8739ce",
   "metadata": {},
   "outputs": [
    {
     "name": "stdout",
     "output_type": "stream",
     "text": [
      "{'Key1': 123, 'key2': [1, 2, 3], 'abhi': 456}\n"
     ]
    }
   ],
   "source": [
    "z.key_value_pair(\"abhi\",456)"
   ]
  },
  {
   "cell_type": "code",
   "execution_count": 108,
   "id": "acdf4d24",
   "metadata": {},
   "outputs": [],
   "source": [
    "from mydict import dictionary_parsing"
   ]
  },
  {
   "cell_type": "code",
   "execution_count": 109,
   "id": "26cafe0f",
   "metadata": {},
   "outputs": [],
   "source": [
    "d1 = dictionary_parsing({\"k1\":15,\"k2\":46})"
   ]
  },
  {
   "cell_type": "code",
   "execution_count": 110,
   "id": "9a2b50a4",
   "metadata": {},
   "outputs": [
    {
     "data": {
      "text/plain": [
       "dict_keys(['k1', 'k2'])"
      ]
     },
     "execution_count": 110,
     "metadata": {},
     "output_type": "execute_result"
    }
   ],
   "source": [
    "d1.give_keys()"
   ]
  },
  {
   "cell_type": "code",
   "execution_count": 111,
   "id": "45f1811d",
   "metadata": {},
   "outputs": [
    {
     "data": {
      "text/plain": [
       "dict_values([15, 46])"
      ]
     },
     "execution_count": 111,
     "metadata": {},
     "output_type": "execute_result"
    }
   ],
   "source": [
    "d1.give_values()"
   ]
  },
  {
   "cell_type": "code",
   "execution_count": null,
   "id": "d64e3e01",
   "metadata": {},
   "outputs": [],
   "source": []
  }
 ],
 "metadata": {
  "kernelspec": {
   "display_name": "Python 3 (ipykernel)",
   "language": "python",
   "name": "python3"
  },
  "language_info": {
   "codemirror_mode": {
    "name": "ipython",
    "version": 3
   },
   "file_extension": ".py",
   "mimetype": "text/x-python",
   "name": "python",
   "nbconvert_exporter": "python",
   "pygments_lexer": "ipython3",
   "version": "3.9.12"
  }
 },
 "nbformat": 4,
 "nbformat_minor": 5
}
